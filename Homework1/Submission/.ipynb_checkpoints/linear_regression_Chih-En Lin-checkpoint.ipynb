{
 "cells": [
  {
   "cell_type": "markdown",
   "metadata": {},
   "source": [
    "## Linear regression workbook\n",
    "\n",
    "This workbook will walk you through a linear regression example. It will provide familiarity with Jupyter Notebook and Python.  Please print (to pdf) a completed version of this workbook for submission with HW #1.\n",
    "\n",
    "ECE C147/C247 Winter Quarter 2022, Prof. J.C. Kao, TAs Y. Li, P. Lu, T. Monsoor, T. wang"
   ]
  },
  {
   "cell_type": "code",
   "execution_count": 1,
   "metadata": {},
   "outputs": [],
   "source": [
    "import numpy as np\n",
    "import matplotlib.pyplot as plt\n",
    "\n",
    "#allows matlab plots to be generated in line\n",
    "%matplotlib inline"
   ]
  },
  {
   "cell_type": "markdown",
   "metadata": {},
   "source": [
    "### Data generation\n",
    "\n",
    "For any example, we first have to generate some appropriate data to use. The following cell generates data according to the model: $y = x - 2x^2 + x^3 + \\epsilon$"
   ]
  },
  {
   "cell_type": "code",
   "execution_count": 2,
   "metadata": {},
   "outputs": [
    {
     "data": {
      "text/plain": [
       "Text(0, 0.5, '$y$')"
      ]
     },
     "execution_count": 2,
     "metadata": {},
     "output_type": "execute_result"
    },
    {
     "data": {
      "image/png": "[encoded data removed]",
      "text/plain": [
       "<Figure size 432x288 with 1 Axes>"
      ]
     },
     "metadata": {
      "needs_background": "light"
     },
     "output_type": "display_data"
    }
   ],
   "source": [
    "np.random.seed(0)  # Sets the random seed.\n",
    "num_train = 200     # Number of training data points\n",
    "\n",
    "# Generate the training data\n",
    "x = np.random.uniform(low=0, high=1, size=(num_train,))\n",
    "y = x - 2*x**2 + x**3 + np.random.normal(loc=0, scale=0.03, size=(num_train,))\n",
    "f = plt.figure()\n",
    "ax = f.gca()\n",
    "ax.plot(x, y, '.')\n",
    "ax.set_xlabel('$x$')\n",
    "ax.set_ylabel('$y$')"
   ]
  },
  {
   "cell_type": "markdown",
   "metadata": {},
   "source": [
    "### QUESTIONS:\n",
    "\n",
    "Write your answers in the markdown cell below this one:\n",
    "\n",
    "(1) What is the generating distribution of $x$?\n",
    "\n",
    "(2) What is the distribution of the additive noise $\\epsilon$?"
   ]
  },
  {
   "cell_type": "markdown",
   "metadata": {},
   "source": [
    "### ANSWERS:\n",
    "\n",
    "(1) It is the Uniform Distribution from 0 to 1.\n",
    "\n",
    "(2) It is the Normal Distribution (mean=0 and standard deviation=0.03)."
   ]
  },
  {
   "cell_type": "markdown",
   "metadata": {},
   "source": [
    "### Fitting data to the model (5 points)\n",
    "\n",
    "Here, we'll do linear regression to fit the parameters of a model $y = ax + b$."
   ]
  },
  {
   "cell_type": "code",
   "execution_count": 3,
   "metadata": {},
   "outputs": [
    {
     "name": "stdout",
     "output_type": "stream",
     "text": [
      "[-0.10599633  0.13315817]\n"
     ]
    }
   ],
   "source": [
    "# xhat = (x, 1)\n",
    "xhat = np.vstack((x, np.ones_like(x)))\n",
    "\n",
    "# ==================== #\n",
    "# START YOUR CODE HERE #\n",
    "# ==================== #\n",
    "# GOAL: create a variable theta; theta is a numpy array whose elements are [a, b]\n",
    "\n",
    "theta = np.matmul(np.matmul(np.linalg.inv(np.matmul(xhat, xhat.T)), xhat), y)\n",
    "print(theta)\n",
    "\n",
    "# ================== #\n",
    "# END YOUR CODE HERE #\n",
    "# ================== #"
   ]
  },
  {
   "cell_type": "code",
   "execution_count": 4,
   "metadata": {},
   "outputs": [
    {
     "data": {
      "text/plain": [
       "[<matplotlib.lines.Line2D at 0x7fd28a2547f0>]"
      ]
     },
     "execution_count": 4,
     "metadata": {},
     "output_type": "execute_result"
    },
    {
     "data": {
      "image/png": "[encoded data removed]",
      "text/plain": [
       "<Figure size 432x288 with 1 Axes>"
      ]
     },
     "metadata": {
      "needs_background": "light"
     },
     "output_type": "display_data"
    }
   ],
   "source": [
    "# Plot the data and your model fit.\n",
    "f = plt.figure()\n",
    "ax = f.gca()\n",
    "ax.plot(x, y, '.')\n",
    "ax.set_xlabel('$x$')\n",
    "ax.set_ylabel('$y$')\n",
    "\n",
    "# Plot the regression line\n",
    "xs = np.linspace(min(x), max(x),50)\n",
    "xs = np.vstack((xs, np.ones_like(xs)))\n",
    "plt.plot(xs[0,:], theta.dot(xs))"
   ]
  },
  {
   "cell_type": "markdown",
   "metadata": {},
   "source": [
    "### QUESTIONS\n",
    "\n",
    "(1) Does the linear model under- or overfit the data?\n",
    "\n",
    "(2) How to change the model to improve the fitting?"
   ]
  },
  {
   "cell_type": "markdown",
   "metadata": {},
   "source": [
    "### ANSWERS\n",
    "\n",
    "(1) It underfits the data.\n",
    "\n",
    "(2) Increase the order of polynomial models."
   ]
  },
  {
   "cell_type": "markdown",
   "metadata": {},
   "source": [
    "### Fitting data to the model (10 points)\n",
    "\n",
    "Here, we'll now do regression to polynomial models of orders 1 to 5.  Note, the order 1 model is the linear model you prior fit."
   ]
  },
  {
   "cell_type": "code",
   "execution_count": 5,
   "metadata": {},
   "outputs": [
    {
     "name": "stdout",
     "output_type": "stream",
     "text": [
      "[array([-0.10599633,  0.13315817]), array([-0.48023061,  0.36743967,  0.05521084]), array([ 0.8843808 , -1.82077417,  0.91178032,  0.00979068]), array([ 0.14080037,  0.60466289, -1.64250929,  0.87250485,  0.01175321]), array([ 0.52432591, -1.164568  ,  1.76052438, -2.07430275,  0.93373916,\n",
      "        0.009716  ])]\n"
     ]
    }
   ],
   "source": [
    "N = 5\n",
    "xhats = []\n",
    "thetas = []\n",
    "\n",
    "# ==================== #\n",
    "# START YOUR CODE HERE #\n",
    "# ==================== #\n",
    "\n",
    "# GOAL: create a variable thetas.\n",
    "# thetas is a list, where theta[i] are the model parameters for the polynomial fit of order i+1.\n",
    "#   i.e., thetas[0] is equivalent to theta above.\n",
    "#   i.e., thetas[1] should be a length 3 np.array with the coefficients of the x^2, x, and 1 respectively.\n",
    "#   ... etc.\n",
    "\n",
    "for i in np.arange(N):\n",
    "    if i == 0:\n",
    "        xhat = np.vstack((x, np.ones_like(x)))\n",
    "    else:\n",
    "        xhat = np.vstack(((x**(i+1)), xhat))\n",
    "    xhats.append(xhat)\n",
    "\n",
    "for xhat in xhats:\n",
    "    thetas.append(np.matmul(np.matmul(np.linalg.inv(np.matmul(xhat, xhat.T)), xhat), y))\n",
    "print(thetas)\n",
    "    \n",
    "# ================== #\n",
    "# END YOUR CODE HERE #\n",
    "# ================== #"
   ]
  },
  {
   "cell_type": "code",
   "execution_count": 6,
   "metadata": {},
   "outputs": [
    {
     "data": {
      "image/png": "[encoded data removed]",
      "text/plain": [
       "<Figure size 432x288 with 1 Axes>"
      ]
     },
     "metadata": {
      "needs_background": "light"
     },
     "output_type": "display_data"
    }
   ],
   "source": [
    "# Plot the data\n",
    "f = plt.figure()\n",
    "ax = f.gca()\n",
    "ax.plot(x, y, '.')\n",
    "ax.set_xlabel('$x$')\n",
    "ax.set_ylabel('$y$')\n",
    "\n",
    "# Plot the regression lines\n",
    "plot_xs = []\n",
    "for i in np.arange(N):\n",
    "    if i == 0:\n",
    "        plot_x = np.vstack((np.linspace(min(x), max(x),50), np.ones(50)))\n",
    "    else:\n",
    "        plot_x = np.vstack((plot_x[-2]**(i+1), plot_x))                              \n",
    "    plot_xs.append(plot_x)\n",
    "\n",
    "for i in np.arange(N):\n",
    "    ax.plot(plot_xs[i][-2,:], thetas[i].dot(plot_xs[i]))\n",
    "\n",
    "labels = ['data']\n",
    "[labels.append('n={}'.format(i+1)) for i in np.arange(N)]\n",
    "bbox_to_anchor=(1.3, 1)\n",
    "lgd = ax.legend(labels, bbox_to_anchor=bbox_to_anchor)"
   ]
  },
  {
   "cell_type": "markdown",
   "metadata": {},
   "source": [
    "### Calculating the training error (10 points)\n",
    "\n",
    "Here, we'll now calculate the training error of polynomial models of orders 1 to 5:\n",
    "\n",
    "$L(\\theta) = \\frac{1}{2}\\sum_{j}(\\hat{y}_j - y_j)^2$"
   ]
  },
  {
   "cell_type": "code",
   "execution_count": 7,
   "metadata": {},
   "outputs": [
    {
     "name": "stdout",
     "output_type": "stream",
     "text": [
      "Training errors are: \n",
      " [0.2379961088362701, 0.10924922209268528, 0.08169603801105374, 0.08165353735296979, 0.08161479195525295]\n"
     ]
    }
   ],
   "source": [
    "training_errors = []\n",
    "\n",
    "# ==================== #\n",
    "# START YOUR CODE HERE #\n",
    "# ==================== #\n",
    "\n",
    "# GOAL: create a variable training_errors, a list of 5 elements,\n",
    "# where training_errors[i] are the training loss for the polynomial fit of order i+1.\n",
    "\n",
    "for i in np.arange(N):\n",
    "    training_errors.append(1/2 * np.sum((np.matmul(thetas[i], xhats[i]) - y)**2))\n",
    "\n",
    "# ================== #\n",
    "# END YOUR CODE HERE #\n",
    "# ================== #\n",
    "\n",
    "print ('Training errors are: \\n', training_errors)"
   ]
  },
  {
   "cell_type": "markdown",
   "metadata": {},
   "source": [
    "### QUESTIONS\n",
    "\n",
    "(1) Which polynomial model has the best training error?\n",
    "\n",
    "(2) Why is this expected?"
   ]
  },
  {
   "cell_type": "markdown",
   "metadata": {},
   "source": [
    "### ANSWERS\n",
    "\n",
    "(1) Polynomial model with order 5.\n",
    "\n",
    "(2) The higher degree polynomial model will have better training error because it tries to pass through more data points."
   ]
  },
  {
   "cell_type": "markdown",
   "metadata": {},
   "source": [
    "### Generating new samples and validation error (5 points)\n",
    "\n",
    "Here, we'll now generate new samples and calculate the validation error of polynomial models of orders 1 to 5."
   ]
  },
  {
   "cell_type": "code",
   "execution_count": 8,
   "metadata": {},
   "outputs": [
    {
     "data": {
      "text/plain": [
       "Text(0, 0.5, '$y$')"
      ]
     },
     "execution_count": 8,
     "metadata": {},
     "output_type": "execute_result"
    },
    {
     "data": {
      "image/png": "[encoded data removed]",
      "text/plain": [
       "<Figure size 432x288 with 1 Axes>"
      ]
     },
     "metadata": {
      "needs_background": "light"
     },
     "output_type": "display_data"
    }
   ],
   "source": [
    "x = np.random.uniform(low=1, high=2, size=(num_train,))\n",
    "y = x - 2*x**2 + x**3 + np.random.normal(loc=0, scale=0.03, size=(num_train,))\n",
    "f = plt.figure()\n",
    "ax = f.gca()\n",
    "ax.plot(x, y, '.')\n",
    "ax.set_xlabel('$x$')\n",
    "ax.set_ylabel('$y$')"
   ]
  },
  {
   "cell_type": "code",
   "execution_count": 9,
   "metadata": {},
   "outputs": [],
   "source": [
    "xhats = []\n",
    "for i in np.arange(N):\n",
    "    if i == 0:\n",
    "        xhat = np.vstack((x, np.ones_like(x)))\n",
    "        plot_x = np.vstack((np.linspace(min(x), max(x),50), np.ones(50)))\n",
    "    else:\n",
    "        xhat = np.vstack((x**(i+1), xhat))\n",
    "        plot_x = np.vstack((plot_x[-2]**(i+1), plot_x))\n",
    "                              \n",
    "    xhats.append(xhat)"
   ]
  },
  {
   "cell_type": "code",
   "execution_count": 10,
   "metadata": {},
   "outputs": [
    {
     "data": {
      "image/png": "[encoded data removed]",
      "text/plain": [
       "<Figure size 432x288 with 1 Axes>"
      ]
     },
     "metadata": {
      "needs_background": "light"
     },
     "output_type": "display_data"
    }
   ],
   "source": [
    "# Plot the data\n",
    "f = plt.figure()\n",
    "ax = f.gca()\n",
    "ax.plot(x, y, '.')\n",
    "ax.set_xlabel('$x$')\n",
    "ax.set_ylabel('$y$')\n",
    "\n",
    "# Plot the regression lines\n",
    "plot_xs = []\n",
    "for i in np.arange(N):\n",
    "    if i == 0:\n",
    "        plot_x = np.vstack((np.linspace(min(x), max(x),50), np.ones(50)))\n",
    "    else:\n",
    "        plot_x = np.vstack((plot_x[-2]**(i+1), plot_x))                              \n",
    "    plot_xs.append(plot_x)\n",
    "\n",
    "for i in np.arange(N):\n",
    "    ax.plot(plot_xs[i][-2,:], thetas[i].dot(plot_xs[i]))\n",
    "\n",
    "labels = ['data']\n",
    "[labels.append('n={}'.format(i+1)) for i in np.arange(N)]\n",
    "bbox_to_anchor=(1.3, 1)\n",
    "lgd = ax.legend(labels, bbox_to_anchor=bbox_to_anchor)"
   ]
  },
  {
   "cell_type": "code",
   "execution_count": 11,
   "metadata": {},
   "outputs": [
    {
     "name": "stdout",
     "output_type": "stream",
     "text": [
      "Validation errors are: \n",
      " [80.86165184550586, 213.19192445058104, 3.1256971084103693, 1.1870765210044922, 214.91021752914227]\n"
     ]
    }
   ],
   "source": [
    "validation_errors = []\n",
    "\n",
    "# ==================== #\n",
    "# START YOUR CODE HERE #\n",
    "# ==================== #\n",
    "\n",
    "# GOAL: create a variable validation_errors, a list of 5 elements,\n",
    "# where validation_errors[i] are the validation loss for the polynomial fit of order i+1.\n",
    "\n",
    "for i in np.arange(N):\n",
    "    validation_errors.append(1/2 * np.sum((np.matmul(thetas[i], xhats[i]) - y)**2))\n",
    "\n",
    "# ================== #\n",
    "# END YOUR CODE HERE #\n",
    "# ================== #\n",
    "\n",
    "print ('Validation errors are: \\n', validation_errors)"
   ]
  },
  {
   "cell_type": "markdown",
   "metadata": {},
   "source": [
    "### QUESTIONS\n",
    "\n",
    "(1) Which polynomial model has the best validation error?\n",
    "\n",
    "(2) Why does the order-5 polynomial model not generalize well?"
   ]
  },
  {
   "cell_type": "markdown",
   "metadata": {},
   "source": [
    "### ANSWERS\n",
    "\n",
    "(1) Polynomial model with order 4.\n",
    "\n",
    "(2) It is a overfitting problem because we generate a new set of data. The more complex model may not generalize well if the data come from a different dataset."
   ]
  }
 ],
 "metadata": {
  "kernelspec": {
   "display_name": "Python 3 (ipykernel)",
   "language": "python",
   "name": "python3"
  },
  "language_info": {
   "codemirror_mode": {
    "name": "ipython",
    "version": 3
   },
   "file_extension": ".py",
   "mimetype": "text/x-python",
   "name": "python",
   "nbconvert_exporter": "python",
   "pygments_lexer": "ipython3",
   "version": "3.9.7"
  }
 },
 "nbformat": 4,
 "nbformat_minor": 2
}
