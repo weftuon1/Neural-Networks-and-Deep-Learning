{
 "cells": [
  {
   "cell_type": "code",
   "execution_count": 121,
   "metadata": {},
   "outputs": [
    {
     "name": "stdout",
     "output_type": "stream",
     "text": [
      "device type is cpu\n"
     ]
    }
   ],
   "source": [
    "%matplotlib inline\n",
    "import torch\n",
    "\n",
    "\n",
    "# get the device, either cuda or cpu\n",
    "device = torch.device(\"cuda\" if torch.cuda.is_available() else \"cpu\")\n",
    "\n",
    "print('device type is {}'.format(device))"
   ]
  },
  {
   "cell_type": "code",
   "execution_count": 122,
   "metadata": {},
   "outputs": [],
   "source": [
    "import numpy as np\n",
    "from keras.models import Sequential\n",
    "from keras.layers import GRU, Dense, Dropout, BatchNormalization, Flatten, Activation\n",
    "from keras.callbacks import EarlyStopping, ModelCheckpoint\n",
    "import matplotlib.pyplot as plt\n",
    "from sklearn import preprocessing\n",
    "from scipy.fftpack import dct, idct\n",
    "from scipy import signal"
   ]
  },
  {
   "cell_type": "code",
   "execution_count": 123,
   "metadata": {},
   "outputs": [
    {
     "name": "stdout",
     "output_type": "stream",
     "text": [
      "Training/Valid data shape: (2115, 22, 1000)\n",
      "Test data shape: (443, 22, 1000)\n",
      "Training/Valid target shape: (2115,)\n",
      "Test target shape: (443,)\n",
      "Person train/valid shape: (2115, 1)\n",
      "Person test shape: (443, 1)\n"
     ]
    }
   ],
   "source": [
    "X_test = np.load(\"X_test.npy\")\n",
    "y_test = np.load(\"y_test.npy\")\n",
    "person_train_valid = np.load(\"person_train_valid.npy\")\n",
    "X_train_valid = np.load(\"X_train_valid.npy\")\n",
    "y_train_valid = np.load(\"y_train_valid.npy\")\n",
    "person_test = np.load(\"person_test.npy\")\n",
    "\n",
    "\n",
    "print ('Training/Valid data shape: {}'.format(X_train_valid.shape))\n",
    "print ('Test data shape: {}'.format(X_test.shape))\n",
    "print ('Training/Valid target shape: {}'.format(y_train_valid.shape))\n",
    "print ('Test target shape: {}'.format(y_test.shape))\n",
    "print ('Person train/valid shape: {}'.format(person_train_valid.shape))\n",
    "print ('Person test shape: {}'.format(person_test.shape))\n"
   ]
  },
  {
   "cell_type": "code",
   "execution_count": 124,
   "metadata": {},
   "outputs": [],
   "source": [
    "num_trials_train, num_electrodes_train, num_bins_train = X_train_valid.shape\n",
    "num_trials_test, num_electrodes_test, num_bins_test = X_test.shape\n",
    "\n",
    "y_test -= 769\n",
    "y_train_valid -= 769\n",
    "lb = preprocessing.LabelBinarizer()\n",
    "lb.fit([0,1,2,3])\n",
    "lb.classes_\n",
    "y_train_valid= lb.transform(y_train_valid)\n",
    "y_test = lb.transform(y_test)"
   ]
  },
  {
   "cell_type": "code",
   "execution_count": 125,
   "metadata": {},
   "outputs": [],
   "source": [
    "downsampling_size = 25      \n",
    "X_train_valid_ds = signal.resample(X_train_valid,downsampling_size,axis=2)\n",
    "X_test_ds = signal.resample(X_test,downsampling_size,axis=2)"
   ]
  },
  {
   "cell_type": "code",
   "execution_count": 126,
   "metadata": {},
   "outputs": [],
   "source": [
    "model = Sequential()\n",
    "\n",
    "model.add(GRU(200, return_sequences=True, stateful=False,recurrent_dropout=0.8, dropout = 0, input_shape=(int(X_train_valid_ds.shape[2]),num_electrodes_train )))\n",
    "\n",
    "model.add(GRU(100, return_sequences=True, stateful=False,recurrent_dropout=0.8, dropout = 0))\n",
    "\n",
    "model.add(GRU(50, return_sequences=True, stateful=False,recurrent_dropout=0.8, dropout = 0))\n",
    "\n",
    "# model.add(GRU(25, return_sequences=True, stateful=False, recurrent_dropout=0.8, dropout = 0))\n",
    "model.add(Flatten())\n",
    "\n",
    "model.add(Dense(100))\n",
    "model.add(BatchNormalization(axis=-1))\n",
    "model.add(Activation('relu'))\n",
    "model.add(Dropout(0.1))\n",
    "\n",
    "model.add(Dense(4,activation='softmax'))\n",
    "\n",
    "model.compile(loss='categorical_crossentropy',optimizer='adam',metrics=['accuracy'])"
   ]
  },
  {
   "cell_type": "code",
   "execution_count": 127,
   "metadata": {},
   "outputs": [],
   "source": [
    "m,n,q = X_train_valid_ds.shape\n",
    "X_train_valid_dss = np.zeros([m,q,n])\n",
    "for i in range(m):\n",
    "    X_train_valid_dss[i] = np.transpose(X_train_valid_ds[i])\n",
    "    \n",
    "m,n,q = X_test_ds.shape\n",
    "X_test_dss = np.zeros([m,q,n])\n",
    "for i in range(m):\n",
    "    X_test_dss[i] = np.transpose(X_test_ds[i])"
   ]
  },
  {
   "cell_type": "code",
   "execution_count": 128,
   "metadata": {},
   "outputs": [
    {
     "name": "stdout",
     "output_type": "stream",
     "text": [
      "Epoch 1/50\n",
      "11/11 [==============================] - 6s 231ms/step - loss: 1.5198 - accuracy: 0.3405 - val_loss: 1.2252 - val_accuracy: 0.4906\n",
      "Epoch 2/50\n",
      "11/11 [==============================] - 2s 175ms/step - loss: 1.2545 - accuracy: 0.4535 - val_loss: 1.1620 - val_accuracy: 0.5566\n",
      "Epoch 3/50\n",
      "11/11 [==============================] - 2s 160ms/step - loss: 1.1516 - accuracy: 0.5047 - val_loss: 1.1005 - val_accuracy: 0.5849\n",
      "Epoch 4/50\n",
      "11/11 [==============================] - 2s 189ms/step - loss: 1.0852 - accuracy: 0.5241 - val_loss: 1.0509 - val_accuracy: 0.6226\n",
      "Epoch 5/50\n",
      "11/11 [==============================] - 2s 168ms/step - loss: 1.0188 - accuracy: 0.5694 - val_loss: 1.0166 - val_accuracy: 0.6038\n",
      "Epoch 6/50\n",
      "11/11 [==============================] - 2s 186ms/step - loss: 0.9513 - accuracy: 0.6098 - val_loss: 1.0244 - val_accuracy: 0.6038\n",
      "Epoch 7/50\n",
      "11/11 [==============================] - 2s 185ms/step - loss: 0.9177 - accuracy: 0.6172 - val_loss: 0.9544 - val_accuracy: 0.6321\n",
      "Epoch 8/50\n",
      "11/11 [==============================] - 2s 183ms/step - loss: 0.8812 - accuracy: 0.6391 - val_loss: 0.9603 - val_accuracy: 0.6321\n",
      "Epoch 9/50\n",
      "11/11 [==============================] - 2s 193ms/step - loss: 0.8411 - accuracy: 0.6655 - val_loss: 0.9675 - val_accuracy: 0.6321\n",
      "Epoch 10/50\n",
      "11/11 [==============================] - 2s 181ms/step - loss: 0.8310 - accuracy: 0.6680 - val_loss: 0.9551 - val_accuracy: 0.5943\n",
      "Epoch 11/50\n",
      "11/11 [==============================] - 2s 176ms/step - loss: 0.8035 - accuracy: 0.6784 - val_loss: 0.9200 - val_accuracy: 0.6321\n",
      "Epoch 12/50\n",
      "11/11 [==============================] - 2s 202ms/step - loss: 0.7648 - accuracy: 0.6904 - val_loss: 0.8820 - val_accuracy: 0.6321\n",
      "Epoch 13/50\n",
      "11/11 [==============================] - 2s 184ms/step - loss: 0.7538 - accuracy: 0.7018 - val_loss: 0.9061 - val_accuracy: 0.6415\n",
      "Epoch 14/50\n",
      "11/11 [==============================] - 2s 219ms/step - loss: 0.7532 - accuracy: 0.6969 - val_loss: 0.9545 - val_accuracy: 0.5849\n",
      "Epoch 15/50\n",
      "11/11 [==============================] - 2s 182ms/step - loss: 0.7144 - accuracy: 0.7153 - val_loss: 0.8519 - val_accuracy: 0.6604\n",
      "Epoch 16/50\n",
      "11/11 [==============================] - 2s 196ms/step - loss: 0.7045 - accuracy: 0.7267 - val_loss: 0.7981 - val_accuracy: 0.7075\n",
      "Epoch 17/50\n",
      "11/11 [==============================] - 2s 204ms/step - loss: 0.6827 - accuracy: 0.7352 - val_loss: 0.9033 - val_accuracy: 0.6038\n",
      "Epoch 18/50\n",
      "11/11 [==============================] - 2s 182ms/step - loss: 0.6229 - accuracy: 0.7730 - val_loss: 0.8595 - val_accuracy: 0.6698\n",
      "Epoch 19/50\n",
      "11/11 [==============================] - 2s 191ms/step - loss: 0.5966 - accuracy: 0.7785 - val_loss: 0.8620 - val_accuracy: 0.6792\n",
      "Epoch 20/50\n",
      "11/11 [==============================] - 2s 199ms/step - loss: 0.6059 - accuracy: 0.7760 - val_loss: 0.9819 - val_accuracy: 0.5755\n",
      "Epoch 21/50\n",
      "11/11 [==============================] - 2s 194ms/step - loss: 0.5581 - accuracy: 0.8004 - val_loss: 0.8052 - val_accuracy: 0.7075\n",
      "Epoch 22/50\n",
      "11/11 [==============================] - 2s 209ms/step - loss: 0.5213 - accuracy: 0.8079 - val_loss: 0.8405 - val_accuracy: 0.6792\n",
      "Epoch 23/50\n",
      "11/11 [==============================] - 2s 190ms/step - loss: 0.5005 - accuracy: 0.8203 - val_loss: 0.9310 - val_accuracy: 0.6509\n",
      "Epoch 24/50\n",
      "11/11 [==============================] - 2s 192ms/step - loss: 0.5172 - accuracy: 0.8089 - val_loss: 0.9077 - val_accuracy: 0.6792\n",
      "Epoch 25/50\n",
      "11/11 [==============================] - 2s 203ms/step - loss: 0.4609 - accuracy: 0.8382 - val_loss: 0.8899 - val_accuracy: 0.6698\n",
      "Epoch 26/50\n",
      "11/11 [==============================] - 2s 188ms/step - loss: 0.4520 - accuracy: 0.8432 - val_loss: 0.9279 - val_accuracy: 0.6698\n",
      "Epoch 27/50\n",
      "11/11 [==============================] - 2s 205ms/step - loss: 0.4274 - accuracy: 0.8547 - val_loss: 0.9569 - val_accuracy: 0.6509\n",
      "Epoch 28/50\n",
      "11/11 [==============================] - 2s 195ms/step - loss: 0.4099 - accuracy: 0.8636 - val_loss: 0.9996 - val_accuracy: 0.6698\n",
      "Epoch 29/50\n",
      "11/11 [==============================] - 2s 165ms/step - loss: 0.4060 - accuracy: 0.8646 - val_loss: 1.0151 - val_accuracy: 0.6698\n",
      "Epoch 30/50\n",
      "11/11 [==============================] - 2s 210ms/step - loss: 0.4116 - accuracy: 0.8646 - val_loss: 0.9555 - val_accuracy: 0.6604\n",
      "Epoch 31/50\n",
      "11/11 [==============================] - 2s 195ms/step - loss: 0.3913 - accuracy: 0.8731 - val_loss: 0.9250 - val_accuracy: 0.6792\n",
      "Epoch 32/50\n",
      "11/11 [==============================] - 2s 208ms/step - loss: 0.3634 - accuracy: 0.8865 - val_loss: 1.0148 - val_accuracy: 0.6792\n",
      "Epoch 33/50\n",
      "11/11 [==============================] - 2s 192ms/step - loss: 0.3447 - accuracy: 0.8875 - val_loss: 0.9640 - val_accuracy: 0.6604\n",
      "Epoch 34/50\n",
      "11/11 [==============================] - 2s 196ms/step - loss: 0.3238 - accuracy: 0.9004 - val_loss: 0.9663 - val_accuracy: 0.6321\n",
      "Epoch 35/50\n",
      "11/11 [==============================] - 2s 184ms/step - loss: 0.3085 - accuracy: 0.9069 - val_loss: 1.0148 - val_accuracy: 0.6415\n",
      "Epoch 36/50\n",
      "11/11 [==============================] - 2s 184ms/step - loss: 0.2958 - accuracy: 0.9089 - val_loss: 1.0923 - val_accuracy: 0.6132\n",
      "Epoch 37/50\n",
      "11/11 [==============================] - 2s 212ms/step - loss: 0.2857 - accuracy: 0.9189 - val_loss: 0.9456 - val_accuracy: 0.6792\n",
      "Epoch 38/50\n",
      "11/11 [==============================] - 2s 212ms/step - loss: 0.2852 - accuracy: 0.9139 - val_loss: 1.0328 - val_accuracy: 0.6321\n",
      "Epoch 39/50\n",
      "11/11 [==============================] - 2s 203ms/step - loss: 0.2816 - accuracy: 0.9184 - val_loss: 0.9307 - val_accuracy: 0.6792\n",
      "Epoch 40/50\n",
      "11/11 [==============================] - 2s 192ms/step - loss: 0.2599 - accuracy: 0.9258 - val_loss: 1.1002 - val_accuracy: 0.6321\n",
      "Epoch 41/50\n",
      "11/11 [==============================] - 2s 200ms/step - loss: 0.2926 - accuracy: 0.9059 - val_loss: 1.2706 - val_accuracy: 0.6038\n",
      "Epoch 42/50\n",
      "11/11 [==============================] - 2s 202ms/step - loss: 0.2710 - accuracy: 0.9189 - val_loss: 1.1508 - val_accuracy: 0.6509\n",
      "Epoch 43/50\n",
      "11/11 [==============================] - 2s 192ms/step - loss: 0.2877 - accuracy: 0.9000 - val_loss: 1.1874 - val_accuracy: 0.6132\n",
      "Epoch 44/50\n",
      "11/11 [==============================] - 2s 204ms/step - loss: 0.2858 - accuracy: 0.9064 - val_loss: 1.1577 - val_accuracy: 0.6509\n",
      "Epoch 45/50\n",
      "11/11 [==============================] - 2s 196ms/step - loss: 0.2535 - accuracy: 0.9258 - val_loss: 1.1841 - val_accuracy: 0.6226\n",
      "Epoch 46/50\n",
      "11/11 [==============================] - 2s 198ms/step - loss: 0.2161 - accuracy: 0.9423 - val_loss: 1.0691 - val_accuracy: 0.6509\n",
      "Epoch 47/50\n",
      "11/11 [==============================] - 2s 218ms/step - loss: 0.1939 - accuracy: 0.9512 - val_loss: 1.3207 - val_accuracy: 0.5849\n",
      "Epoch 48/50\n",
      "11/11 [==============================] - 2s 165ms/step - loss: 0.1933 - accuracy: 0.9507 - val_loss: 1.1531 - val_accuracy: 0.6604\n",
      "Epoch 49/50\n",
      "11/11 [==============================] - 2s 189ms/step - loss: 0.2030 - accuracy: 0.9457 - val_loss: 1.1622 - val_accuracy: 0.6226\n",
      "Epoch 50/50\n",
      "11/11 [==============================] - 2s 204ms/step - loss: 0.2156 - accuracy: 0.9447 - val_loss: 1.1835 - val_accuracy: 0.5755\n"
     ]
    }
   ],
   "source": [
    "history = model.fit(X_train_valid_dss, y_train_valid,batch_size=200, epochs=50, shuffle=True,validation_split = 0.05)\n",
    "scores = model.evaluate(X_test_dss, y_test, verbose=0)\n"
   ]
  },
  {
   "cell_type": "code",
   "execution_count": 129,
   "metadata": {},
   "outputs": [
    {
     "name": "stdout",
     "output_type": "stream",
     "text": [
      "downsampling size: 25\n",
      "testing accuracy: 58.01%\n",
      "maximum validation accuracy: 70.75%\n"
     ]
    }
   ],
   "source": [
    "print(\"downsampling size: {}\".format(downsampling_size))\n",
    "print(\"testing accuracy: %.2f%%\" % (scores[1]*100))\n",
    "print(\"maximum validation accuracy: %.2f%%\" % (max(history.history['val_accuracy'])*100))"
   ]
  },
  {
   "cell_type": "code",
   "execution_count": 130,
   "metadata": {},
   "outputs": [
    {
     "data": {
      "image/png": "[encoded data removed]",
      "text/plain": [
       "<Figure size 432x288 with 1 Axes>"
      ]
     },
     "metadata": {
      "needs_background": "light"
     },
     "output_type": "display_data"
    },
    {
     "data": {
      "image/png": "[encoded data removed]",
      "text/plain": [
       "<Figure size 432x288 with 1 Axes>"
      ]
     },
     "metadata": {
      "needs_background": "light"
     },
     "output_type": "display_data"
    }
   ],
   "source": [
    "plt.plot(history.history['accuracy'])\n",
    "plt.plot(history.history['val_accuracy'])\n",
    "plt.title('Accuracy')\n",
    "plt.ylabel('accuracy')\n",
    "plt.xlabel('epoch')\n",
    "plt.legend(['Training', 'Validation'], loc='upper left')\n",
    "plt.show()\n",
    "\n",
    "\n",
    "plt.plot(history.history['loss'])\n",
    "plt.plot(history.history['val_loss'])\n",
    "plt.title('Loss')\n",
    "plt.ylabel('loss')\n",
    "plt.xlabel('epoch')\n",
    "plt.legend(['Training', 'Validation'], loc='upper left')\n",
    "plt.show()"
   ]
  },
  {
   "cell_type": "code",
   "execution_count": null,
   "metadata": {},
   "outputs": [],
   "source": []
  }
 ],
 "metadata": {
  "kernelspec": {
   "display_name": "Python 3",
   "language": "python",
   "name": "python3"
  },
  "language_info": {
   "codemirror_mode": {
    "name": "ipython",
    "version": 3
   },
   "file_extension": ".py",
   "mimetype": "text/x-python",
   "name": "python",
   "nbconvert_exporter": "python",
   "pygments_lexer": "ipython3",
   "version": "3.7.4"
  }
 },
 "nbformat": 4,
 "nbformat_minor": 2
}
