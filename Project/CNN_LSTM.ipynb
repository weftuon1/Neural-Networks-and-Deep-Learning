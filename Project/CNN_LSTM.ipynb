{
  "cells": [
    {
      "cell_type": "code",
      "execution_count": null,
      "metadata": {
        "id": "MQoRpZj7acT1"
      },
      "outputs": [],
      "source": [
        "from google.colab import drive\n",
        "drive.mount('/content/drive')\n",
        "import sys    \n",
        "import os\n",
        "path_to_module = '/content/drive/MyDrive/247pj/'\n",
        "sys.path.append(path_to_module)\n",
        "os.chdir(path_to_module)"
      ]
    },
    {
      "cell_type": "code",
      "execution_count": null,
      "metadata": {
        "colab": {
          "base_uri": "https://localhost:8080/"
        },
        "id": "1bw7GXUPZj-v",
        "outputId": "f71ff201-1aaf-4a9e-8a53-7b2b6d4cd44d"
      },
      "outputs": [
        {
          "name": "stdout",
          "output_type": "stream",
          "text": [
            "device type is cuda\n"
          ]
        }
      ],
      "source": [
        "%matplotlib inline\n",
        "import torch\n",
        "import numpy as np\n",
        "\n",
        "# get the device, either cuda or cpu\n",
        "device = torch.device(\"cuda\" if torch.cuda.is_available() else \"cpu\")\n",
        "\n",
        "print('device type is {}'.format(device))"
      ]
    },
    {
      "cell_type": "code",
      "execution_count": null,
      "metadata": {
        "colab": {
          "background_save": true
        },
        "id": "nrWETLzxauye"
      },
      "outputs": [],
      "source": [
        "X_test = np.load(\"X_test.npy\")\n",
        "y_test = np.load(\"y_test.npy\")\n",
        "person_train_valid = np.load(\"person_train_valid.npy\")\n",
        "X_train_valid = np.load(\"X_train_valid.npy\")\n",
        "y_train_valid = np.load(\"y_train_valid.npy\")\n",
        "person_test = np.load(\"person_test.npy\")"
      ]
    },
    {
      "cell_type": "code",
      "execution_count": null,
      "metadata": {
        "colab": {
          "background_save": true,
          "base_uri": "https://localhost:8080/"
        },
        "id": "3889boEba2Yk",
        "outputId": "dc014267-19f9-4cea-82a3-040af04a3e6e"
      },
      "outputs": [
        {
          "name": "stdout",
          "output_type": "stream",
          "text": [
            "Training/Valid data shape: (2115, 22, 1000)\n",
            "Test data shape: (443, 22, 1000)\n",
            "Training/Valid target shape: (2115,)\n",
            "Test target shape: (443,)\n",
            "Person train/valid shape: (2115, 1)\n",
            "Person test shape: (443, 1)\n"
          ]
        }
      ],
      "source": [
        "print ('Training/Valid data shape: {}'.format(X_train_valid.shape))\n",
        "print ('Test data shape: {}'.format(X_test.shape))\n",
        "print ('Training/Valid target shape: {}'.format(y_train_valid.shape))\n",
        "print ('Test target shape: {}'.format(y_test.shape))\n",
        "print ('Person train/valid shape: {}'.format(person_train_valid.shape))\n",
        "print ('Person test shape: {}'.format(person_test.shape))"
      ]
    },
    {
      "cell_type": "code",
      "execution_count": null,
      "metadata": {
        "colab": {
          "background_save": true
        },
        "id": "CPc9BFUsFC_f"
      },
      "outputs": [],
      "source": [
        "# #extract subject1\n",
        "# idx = np.argwhere(person_train_valid == 1)[:, 0]\n",
        "# X_train_valid_1 = X_train_valid[idx, :, :]\n",
        "# y_train_valid_1 = y_train_valid[idx]\n",
        "\n",
        "# idx = np.argwhere(person_test == 1)[:, 0]\n",
        "# X_test_1 = X_test[idx, :, :]\n",
        "# y_test_1 = y_test[idx]"
      ]
    },
    {
      "cell_type": "code",
      "execution_count": null,
      "metadata": {
        "colab": {
          "background_save": true
        },
        "id": "ctcVB3PYNRXm"
      },
      "outputs": [],
      "source": [
        "def normalize(array):\n",
        "  return (array - np.mean(array, axis=0)) / np.std(array, axis=0)\n",
        "  \n",
        "#preprocess data\n",
        "y_train_valid -= 769\n",
        "y_test -= 769"
      ]
    },
    {
      "cell_type": "code",
      "execution_count": null,
      "metadata": {
        "colab": {
          "background_save": true
        },
        "id": "UdJsMKL6Nccy"
      },
      "outputs": [],
      "source": [
        "def data_prep(X,y,sub_sample,average,noise):\n",
        "    \n",
        "    total_X = None\n",
        "    total_y = None\n",
        "    \n",
        "    # Trimming the data (sample,22,1000) -> (sample,22,500)\n",
        "    X = X[:,:,0:300]\n",
        "    print('Shape of X after trimming:',X.shape)\n",
        "    \n",
        "    # Maxpooling the data (sample,22,1000) -> (sample,22,500/sub_sample)\n",
        "    X_max = np.max(X.reshape(X.shape[0], X.shape[1], -1, sub_sample), axis=3)\n",
        "    \n",
        "    \n",
        "    total_X = X_max\n",
        "    total_y = y\n",
        "    print('Shape of X after maxpooling:',total_X.shape)\n",
        "    # Averaging + noise \n",
        "    X_average = np.mean(X.reshape(X.shape[0], X.shape[1], -1, average),axis=3)\n",
        "    X_average = X_average + np.random.normal(0.0, 0.5, X_average.shape)\n",
        "    total_X = np.vstack((total_X, X_average))\n",
        "    total_y = np.hstack((total_y, y))\n",
        "    print('Shape of X after averaging+noise and concatenating:',total_X.shape)\n",
        "    \n",
        "    # Subsampling\n",
        "    \n",
        "    for i in range(sub_sample):\n",
        "        \n",
        "        X_subsample = X[:, :, i::sub_sample] + \\\n",
        "                            (np.random.normal(0.0, 0.5, X[:, :,i::sub_sample].shape) if noise else 0.0)\n",
        "            \n",
        "        total_X = np.vstack((total_X, X_subsample))\n",
        "        total_y = np.hstack((total_y, y))\n",
        "        \n",
        "    \n",
        "    print('Shape of X after subsampling and concatenating:',total_X.shape)\n",
        "    return total_X,total_y"
      ]
    },
    {
      "cell_type": "code",
      "execution_count": null,
      "metadata": {
        "colab": {
          "background_save": true,
          "base_uri": "https://localhost:8080/"
        },
        "id": "M5RFlBCSNg7G",
        "outputId": "16e68610-b703-47da-ed49-eaa764d19842"
      },
      "outputs": [
        {
          "name": "stdout",
          "output_type": "stream",
          "text": [
            "Shape of X after trimming: (2115, 22, 300)\n",
            "Shape of X after maxpooling: (2115, 22, 150)\n",
            "Shape of X after averaging+noise and concatenating: (4230, 22, 150)\n",
            "Shape of X after subsampling and concatenating: (8460, 22, 150)\n",
            "Shape of X after trimming: (443, 22, 300)\n",
            "Shape of X after maxpooling: (443, 22, 150)\n",
            "Shape of X after averaging+noise and concatenating: (886, 22, 150)\n",
            "Shape of X after subsampling and concatenating: (1772, 22, 150)\n",
            "(8460, 22, 150)\n",
            "(8460,)\n",
            "(1772, 22, 150)\n",
            "(1772,)\n",
            "Shape of training set: (6960, 22, 150)\n",
            "Shape of validation set: (1500, 22, 150)\n",
            "Shape of training labels: (6960,)\n",
            "Shape of validation labels: (1500,)\n"
          ]
        }
      ],
      "source": [
        "## Preprocessing the dataset\n",
        "\n",
        "X_train_valid_prep,y_train_valid_prep = data_prep(X_train_valid,y_train_valid,2,2,True)\n",
        "X_test_prep,y_test_prep = data_prep(X_test,y_test,2,2,True)\n",
        "\n",
        "print(X_train_valid_prep.shape)\n",
        "print(y_train_valid_prep.shape)\n",
        "print(X_test_prep.shape)\n",
        "print(y_test_prep.shape)\n",
        "\n",
        "\n",
        "\n",
        "## Random splitting and reshaping the data\n",
        "\n",
        "# First generating the training and validation indices using random splitting\n",
        "ind_valid = np.random.choice(8460, 1500, replace=False)\n",
        "ind_train = np.array(list(set(range(8460)).difference(set(ind_valid))))\n",
        "\n",
        "# Creating the training and validation sets using the generated indices\n",
        "(x_train, x_valid) = X_train_valid_prep[ind_train], X_train_valid_prep[ind_valid] \n",
        "(y_train, y_valid) = y_train_valid_prep[ind_train], y_train_valid_prep[ind_valid]\n",
        "print('Shape of training set:',x_train.shape)\n",
        "print('Shape of validation set:',x_valid.shape)\n",
        "print('Shape of training labels:',y_train.shape)\n",
        "print('Shape of validation labels:',y_valid.shape)"
      ]
    },
    {
      "cell_type": "code",
      "execution_count": null,
      "metadata": {
        "colab": {
          "background_save": true
        },
        "id": "iSzMo6foNq04"
      },
      "outputs": [],
      "source": [
        "from torch.utils.data import DataLoader, TensorDataset\n",
        "\n",
        "batch_size = 64\n",
        "trainset = TensorDataset(torch.from_numpy(x_train).float(), torch.from_numpy(y_train).type(torch.LongTensor))\n",
        "valset = TensorDataset(torch.from_numpy(x_valid).float(), torch.from_numpy(y_valid).type(torch.LongTensor))\n",
        "testset = TensorDataset(torch.from_numpy(X_test_prep).float(), torch.from_numpy(y_test_prep).type(torch.LongTensor))\n",
        "\n",
        "trainloader = DataLoader(trainset, batch_size=batch_size, shuffle=True, num_workers=2)\n",
        "valloader = DataLoader(valset, batch_size=batch_size, shuffle=False, num_workers=2)\n",
        "testloader = DataLoader(testset, batch_size=batch_size, shuffle=False, num_workers=2)"
      ]
    },
    {
      "cell_type": "markdown",
      "metadata": {
        "id": "3hYU6UOFL719"
      },
      "source": [
        "###CNN###\n",
        "\n",
        "```\n",
        "nn.Conv1d(22, 25, 10, padding='same'),\n",
        "nn.ELU(),\n",
        "nn.MaxPool1d(3, padding=1),\n",
        "nn.BatchNorm1d(25),\n",
        "nn.Dropout(0.5),\n",
        "nn.Conv1d(25, 50, 10, padding='same'),\n",
        "nn.ELU(),\n",
        "nn.MaxPool1d(3, padding=1),\n",
        "nn.BatchNorm1d(50),\n",
        "nn.Dropout(0.5),\n",
        "nn.Conv1d(50, 100, 10, padding='same'),\n",
        "nn.ELU(),\n",
        "nn.MaxPool1d(3, padding=1),\n",
        "nn.BatchNorm1d(100),\n",
        "nn.Dropout(0.5),\n",
        "nn.Conv1d(100, 200, 10, padding='same'),\n",
        "nn.ELU(),\n",
        "nn.MaxPool1d(3, padding=1),\n",
        "nn.BatchNorm1d(200),\n",
        "nn.Dropout(0.5),\n",
        "nn.Flatten(),\n",
        "nn.Linear(2600, 4)\n",
        "```\n",
        "\n"
      ]
    },
    {
      "cell_type": "code",
      "execution_count": null,
      "metadata": {
        "colab": {
          "background_save": true
        },
        "id": "-bXiZQasF-tl"
      },
      "outputs": [],
      "source": [
        "import torch.nn as nn # torch neural network modules\n",
        "class swap(nn.Module):\n",
        "  def forward(self, x):\n",
        "    return torch.transpose(x, 1, 2)\n",
        "class extractcell(nn.Module):\n",
        "  def forward(self, x):\n",
        "    out, (hn, cn) = x #out: (N, L=1000, hidden), hn: (#layers, N, hidden)\n",
        "\n",
        "    return out#[:, :200, :] #(N, L=1000, hidden)\n",
        "\n",
        "class extractlastcell(nn.Module):\n",
        "  def forward(self, x):\n",
        "    out, (hn, cn) = x #out: (N, L=1000, hidden), hn: (#layers, N, hidden)\n",
        "\n",
        "    return out[:, -1, :] #(N, hidden)\n",
        "\n",
        "class choosebegin(nn.Module):\n",
        "  def forward(self, x):\n",
        "    return x[:, :100, :] \n",
        "\n",
        "class CNN_LSTM(nn.Module):\n",
        "    \n",
        "    def __init__(self):\n",
        "        super().__init__()\n",
        "\n",
        "        self.net = nn.Sequential( #(N, 1000, 22)\n",
        "            ### 1\n",
        "            nn.Conv1d(22, 25, 10, padding='same'),\n",
        "            nn.ELU(alpha=0.9, inplace=True),\n",
        "            nn.MaxPool1d(3, padding=1),\n",
        "            nn.BatchNorm1d(25, eps=1e-05, momentum=0.2, affine=True),\n",
        "            nn.Dropout(0.5),\n",
        "\n",
        "            nn.Conv1d(25, 50, 10, padding='same'),\n",
        "            nn.ELU(alpha=0.9, inplace=True),\n",
        "            nn.MaxPool1d(3, padding=1),\n",
        "            nn.BatchNorm1d(50, eps=1e-05, momentum=0.2, affine=True),\n",
        "            nn.Dropout(0.5),\n",
        "\n",
        "            nn.Conv1d(50, 100, 10, padding='same'),\n",
        "            nn.ELU(alpha=0.9, inplace=True),\n",
        "            nn.MaxPool1d(3, padding=1),\n",
        "            nn.BatchNorm1d(100, eps=1e-05, momentum=0.2, affine=True),\n",
        "            nn.Dropout(0.5),\n",
        "\n",
        "            nn.Conv1d(100, 200, 10, padding='same'),\n",
        "            nn.ELU(alpha=0.9, inplace=True),\n",
        "            nn.MaxPool1d(3, padding=1),\n",
        "            nn.BatchNorm1d(200, eps=1e-05, momentum=0.2, affine=True),\n",
        "            nn.Dropout(0.5),\n",
        "\n",
        "            swap(),\n",
        "            nn.LSTM(200, 400, 3, batch_first=True, dropout=0.5), \n",
        "            extractcell(),\n",
        "            swap(),\n",
        "\n",
        "            nn.Flatten(),\n",
        "            nn.Linear(800, 4)\n",
        "        )\n",
        "\n",
        "        self.criterion = nn.CrossEntropyLoss()\n",
        "\n",
        "    def forward(self, x):\n",
        "        return self.net(x)\n",
        "\n",
        "    def cal_loss(self, pred, target):\n",
        "        return self.criterion(pred, target)\n",
        "\n",
        "model = CNN_LSTM().to(device)"
      ]
    },
    {
      "cell_type": "code",
      "execution_count": null,
      "metadata": {
        "colab": {
          "background_save": true
        },
        "id": "O13UCR58aCul"
      },
      "outputs": [],
      "source": [
        "import torch.optim as optim\n",
        "import matplotlib.pyplot as plt\n",
        "\n",
        "PATH_loss = './RNN_loss_2.pth'\n",
        "PATH_acc = './RNN_acc.pth'\n",
        "\n",
        "def train(tr_set, model, device):\n",
        "\n",
        "    n_epochs = 80\n",
        "\n",
        "    # Setup optimizer\n",
        "    optimizer = optim.Adam(model.parameters(), lr=0.001)\n",
        "    loss_record = {'train':[], 'val':[]}\n",
        "    acc_record = {'train':[], 'val':[]}\n",
        "    best_loss = 10\n",
        "    best_acc = 0\n",
        "    for epoch in range(n_epochs):\n",
        "        model.train()\n",
        "        #running_loss = 0.0\n",
        "        for data in tr_set:\n",
        "            optimizer.zero_grad()\n",
        "            x, y = data\n",
        "            x, y = x.to(device), y.to(device)\n",
        "            pred = model(x)\n",
        "            loss = model.cal_loss(pred, y)\n",
        "            loss.backward()\n",
        "            optimizer.step()\n",
        "        \n",
        "        acc_val, loss_val = test(valloader, model, device)\n",
        "        acc_train, loss_train = test(trainloader, model, device)\n",
        "        acc_record['val'].append(acc_val)\n",
        "        loss_record['val'].append(loss_val)\n",
        "        acc_record['train'].append(acc_train)\n",
        "        loss_record['train'].append(loss_train)\n",
        "        print('Finished training after {} epochs'.format(epoch+1))\n",
        "        print('acc on validation set: {}\\n'.format(acc_val))\n",
        "        if loss_val < best_loss:\n",
        "          best_loss = loss_val\n",
        "          # Save:\n",
        "          torch.save(model.state_dict(), PATH_loss) # save state_dict\n",
        "        if acc_val > best_acc:\n",
        "          best_acc = acc_val\n",
        "          # Save:\n",
        "          torch.save(model.state_dict(), PATH_acc) # save state_dict\n",
        "    plt.subplot(2, 1, 1)\n",
        "    plt.title('loss')\n",
        "    plt.plot(loss_record['train'], '-', label='train')\n",
        "    plt.plot(loss_record['val'], '-', label='val')\n",
        "    plt.xlabel('Epoch')\n",
        "    plt.legend(loc='upper right')\n",
        "    plt.subplot(2, 1, 2)\n",
        "    plt.title('Accuracy')\n",
        "    plt.plot(acc_record['train'], '-', label='train')\n",
        "    plt.plot(acc_record['val'], '-', label='val')\n",
        "    plt.xlabel('Epoch')\n",
        "    plt.legend(loc='lower right')\n",
        "    plt.gcf().set_size_inches(15, 12)\n",
        "    plt.show()"
      ]
    },
    {
      "cell_type": "code",
      "execution_count": null,
      "metadata": {
        "colab": {
          "background_save": true
        },
        "id": "F6UYzrCnaH1d"
      },
      "outputs": [],
      "source": [
        "def test(tt_set, model, device):\n",
        "    correct = total = loss = 0\n",
        "    model.eval()\n",
        "    for x, y in tt_set:\n",
        "      x, y = x.to(device), y.to(device)\n",
        "      with torch.no_grad():\n",
        "        pred = model(x)\n",
        "        loss += model.cal_loss(pred, y).item() * y.size(0)\n",
        "        _, predicted = torch.max(pred.data, 1)\n",
        "        total += y.size(0)\n",
        "        correct += (predicted == y).sum().item()\n",
        "    acc = correct / total\n",
        "    loss /= total\n",
        "    return acc, loss"
      ]
    },
    {
      "cell_type": "code",
      "execution_count": null,
      "metadata": {
        "colab": {
          "base_uri": "https://localhost:8080/",
          "height": 1000
        },
        "id": "xWfyPMO91SQr",
        "outputId": "e64365b2-23f7-4683-d952-da680e4b6e44"
      },
      "outputs": [
        {
          "name": "stderr",
          "output_type": "stream",
          "text": [
            "/usr/local/lib/python3.7/dist-packages/torch/nn/modules/conv.py:298: UserWarning: Using padding='same' with even kernel lengths and odd dilation may require a zero-padded copy of the input be created (Triggered internally at  ../aten/src/ATen/native/Convolution.cpp:647.)\n",
            "  self.padding, self.dilation, self.groups)\n"
          ]
        },
        {
          "name": "stdout",
          "output_type": "stream",
          "text": [
            "Finished training after 1 epochs\n",
            "acc on validation set: 0.3953333333333333\n",
            "\n",
            "Finished training after 2 epochs\n",
            "acc on validation set: 0.4673333333333333\n",
            "\n",
            "Finished training after 3 epochs\n",
            "acc on validation set: 0.5193333333333333\n",
            "\n",
            "Finished training after 4 epochs\n",
            "acc on validation set: 0.5686666666666667\n",
            "\n",
            "Finished training after 5 epochs\n",
            "acc on validation set: 0.634\n",
            "\n",
            "Finished training after 6 epochs\n",
            "acc on validation set: 0.6493333333333333\n",
            "\n",
            "Finished training after 7 epochs\n",
            "acc on validation set: 0.656\n",
            "\n",
            "Finished training after 8 epochs\n",
            "acc on validation set: 0.682\n",
            "\n",
            "Finished training after 9 epochs\n",
            "acc on validation set: 0.7093333333333334\n",
            "\n",
            "Finished training after 10 epochs\n",
            "acc on validation set: 0.706\n",
            "\n",
            "Finished training after 11 epochs\n",
            "acc on validation set: 0.7253333333333334\n",
            "\n",
            "Finished training after 12 epochs\n",
            "acc on validation set: 0.7653333333333333\n",
            "\n",
            "Finished training after 13 epochs\n",
            "acc on validation set: 0.7313333333333333\n",
            "\n",
            "Finished training after 14 epochs\n",
            "acc on validation set: 0.78\n",
            "\n",
            "Finished training after 15 epochs\n",
            "acc on validation set: 0.7893333333333333\n",
            "\n",
            "Finished training after 16 epochs\n",
            "acc on validation set: 0.784\n",
            "\n",
            "Finished training after 17 epochs\n",
            "acc on validation set: 0.814\n",
            "\n",
            "Finished training after 18 epochs\n",
            "acc on validation set: 0.818\n",
            "\n",
            "Finished training after 19 epochs\n",
            "acc on validation set: 0.8286666666666667\n",
            "\n",
            "Finished training after 20 epochs\n",
            "acc on validation set: 0.816\n",
            "\n",
            "Finished training after 21 epochs\n",
            "acc on validation set: 0.8666666666666667\n",
            "\n",
            "Finished training after 22 epochs\n",
            "acc on validation set: 0.8646666666666667\n",
            "\n",
            "Finished training after 23 epochs\n",
            "acc on validation set: 0.8573333333333333\n",
            "\n",
            "Finished training after 24 epochs\n",
            "acc on validation set: 0.874\n",
            "\n",
            "Finished training after 25 epochs\n",
            "acc on validation set: 0.886\n",
            "\n",
            "Finished training after 26 epochs\n",
            "acc on validation set: 0.888\n",
            "\n",
            "Finished training after 27 epochs\n",
            "acc on validation set: 0.904\n",
            "\n",
            "Finished training after 28 epochs\n",
            "acc on validation set: 0.892\n",
            "\n",
            "Finished training after 29 epochs\n",
            "acc on validation set: 0.9\n",
            "\n",
            "Finished training after 30 epochs\n",
            "acc on validation set: 0.906\n",
            "\n",
            "Finished training after 31 epochs\n",
            "acc on validation set: 0.9153333333333333\n",
            "\n",
            "Finished training after 32 epochs\n",
            "acc on validation set: 0.9\n",
            "\n",
            "Finished training after 33 epochs\n",
            "acc on validation set: 0.9246666666666666\n",
            "\n",
            "Finished training after 34 epochs\n",
            "acc on validation set: 0.9253333333333333\n",
            "\n",
            "Finished training after 35 epochs\n",
            "acc on validation set: 0.9006666666666666\n",
            "\n",
            "Finished training after 36 epochs\n",
            "acc on validation set: 0.926\n",
            "\n",
            "Finished training after 37 epochs\n",
            "acc on validation set: 0.92\n",
            "\n",
            "Finished training after 38 epochs\n",
            "acc on validation set: 0.94\n",
            "\n",
            "Finished training after 39 epochs\n",
            "acc on validation set: 0.9306666666666666\n",
            "\n",
            "Finished training after 40 epochs\n",
            "acc on validation set: 0.9373333333333334\n",
            "\n",
            "Finished training after 41 epochs\n",
            "acc on validation set: 0.9366666666666666\n",
            "\n",
            "Finished training after 42 epochs\n",
            "acc on validation set: 0.9473333333333334\n",
            "\n",
            "Finished training after 43 epochs\n",
            "acc on validation set: 0.9373333333333334\n",
            "\n",
            "Finished training after 44 epochs\n",
            "acc on validation set: 0.952\n",
            "\n",
            "Finished training after 45 epochs\n",
            "acc on validation set: 0.9513333333333334\n",
            "\n",
            "Finished training after 46 epochs\n",
            "acc on validation set: 0.966\n",
            "\n",
            "Finished training after 47 epochs\n",
            "acc on validation set: 0.96\n",
            "\n",
            "Finished training after 48 epochs\n",
            "acc on validation set: 0.9573333333333334\n",
            "\n",
            "Finished training after 49 epochs\n",
            "acc on validation set: 0.9566666666666667\n",
            "\n",
            "Finished training after 50 epochs\n",
            "acc on validation set: 0.9606666666666667\n",
            "\n",
            "Finished training after 51 epochs\n",
            "acc on validation set: 0.9706666666666667\n",
            "\n",
            "Finished training after 52 epochs\n",
            "acc on validation set: 0.9713333333333334\n",
            "\n",
            "Finished training after 53 epochs\n",
            "acc on validation set: 0.9573333333333334\n",
            "\n",
            "Finished training after 54 epochs\n",
            "acc on validation set: 0.9613333333333334\n",
            "\n",
            "Finished training after 55 epochs\n",
            "acc on validation set: 0.9666666666666667\n",
            "\n",
            "Finished training after 56 epochs\n",
            "acc on validation set: 0.972\n",
            "\n",
            "Finished training after 57 epochs\n",
            "acc on validation set: 0.9693333333333334\n",
            "\n",
            "Finished training after 58 epochs\n",
            "acc on validation set: 0.9673333333333334\n",
            "\n",
            "Finished training after 59 epochs\n",
            "acc on validation set: 0.968\n",
            "\n",
            "Finished training after 60 epochs\n",
            "acc on validation set: 0.968\n",
            "\n",
            "Finished training after 61 epochs\n",
            "acc on validation set: 0.9733333333333334\n",
            "\n",
            "Finished training after 62 epochs\n",
            "acc on validation set: 0.9713333333333334\n",
            "\n",
            "Finished training after 63 epochs\n",
            "acc on validation set: 0.9706666666666667\n",
            "\n",
            "Finished training after 64 epochs\n",
            "acc on validation set: 0.984\n",
            "\n",
            "Finished training after 65 epochs\n",
            "acc on validation set: 0.984\n",
            "\n",
            "Finished training after 66 epochs\n",
            "acc on validation set: 0.9826666666666667\n",
            "\n",
            "Finished training after 67 epochs\n",
            "acc on validation set: 0.9773333333333334\n",
            "\n",
            "Finished training after 68 epochs\n",
            "acc on validation set: 0.9773333333333334\n",
            "\n",
            "Finished training after 69 epochs\n",
            "acc on validation set: 0.9826666666666667\n",
            "\n",
            "Finished training after 70 epochs\n",
            "acc on validation set: 0.986\n",
            "\n",
            "Finished training after 71 epochs\n",
            "acc on validation set: 0.9846666666666667\n",
            "\n",
            "Finished training after 72 epochs\n",
            "acc on validation set: 0.9826666666666667\n",
            "\n",
            "Finished training after 73 epochs\n",
            "acc on validation set: 0.982\n",
            "\n",
            "Finished training after 74 epochs\n",
            "acc on validation set: 0.972\n",
            "\n",
            "Finished training after 75 epochs\n",
            "acc on validation set: 0.9866666666666667\n",
            "\n",
            "Finished training after 76 epochs\n",
            "acc on validation set: 0.9833333333333333\n",
            "\n",
            "Finished training after 77 epochs\n",
            "acc on validation set: 0.984\n",
            "\n",
            "Finished training after 78 epochs\n",
            "acc on validation set: 0.984\n",
            "\n",
            "Finished training after 79 epochs\n",
            "acc on validation set: 0.98\n",
            "\n",
            "Finished training after 80 epochs\n",
            "acc on validation set: 0.9886666666666667\n",
            "\n"
          ]
        },
        {
          "data": {
            "image/png": "[encoded data removed]",
            "text/plain": [
              "<Figure size 1080x864 with 2 Axes>"
            ]
          },
          "metadata": {},
          "output_type": "display_data"
        }
      ],
      "source": [
        "train(trainloader, model, device)"
      ]
    },
    {
      "cell_type": "code",
      "execution_count": null,
      "metadata": {
        "colab": {
          "base_uri": "https://localhost:8080/"
        },
        "id": "ZSHWdikLa31c",
        "outputId": "8de2ead6-a13b-4c5f-aa81-7c3f1f1b4850"
      },
      "outputs": [
        {
          "data": {
            "text/plain": [
              "CNN_LSTM(\n",
              "  (net): Sequential(\n",
              "    (0): Conv1d(22, 25, kernel_size=(10,), stride=(1,), padding=same)\n",
              "    (1): ELU(alpha=0.9, inplace=True)\n",
              "    (2): MaxPool1d(kernel_size=3, stride=3, padding=1, dilation=1, ceil_mode=False)\n",
              "    (3): BatchNorm1d(25, eps=1e-05, momentum=0.2, affine=True, track_running_stats=True)\n",
              "    (4): Dropout(p=0.5, inplace=False)\n",
              "    (5): Conv1d(25, 50, kernel_size=(10,), stride=(1,), padding=same)\n",
              "    (6): ELU(alpha=0.9, inplace=True)\n",
              "    (7): MaxPool1d(kernel_size=3, stride=3, padding=1, dilation=1, ceil_mode=False)\n",
              "    (8): BatchNorm1d(50, eps=1e-05, momentum=0.2, affine=True, track_running_stats=True)\n",
              "    (9): Dropout(p=0.5, inplace=False)\n",
              "    (10): Conv1d(50, 100, kernel_size=(10,), stride=(1,), padding=same)\n",
              "    (11): ELU(alpha=0.9, inplace=True)\n",
              "    (12): MaxPool1d(kernel_size=3, stride=3, padding=1, dilation=1, ceil_mode=False)\n",
              "    (13): BatchNorm1d(100, eps=1e-05, momentum=0.2, affine=True, track_running_stats=True)\n",
              "    (14): Dropout(p=0.5, inplace=False)\n",
              "    (15): Conv1d(100, 200, kernel_size=(10,), stride=(1,), padding=same)\n",
              "    (16): ELU(alpha=0.9, inplace=True)\n",
              "    (17): MaxPool1d(kernel_size=3, stride=3, padding=1, dilation=1, ceil_mode=False)\n",
              "    (18): BatchNorm1d(200, eps=1e-05, momentum=0.2, affine=True, track_running_stats=True)\n",
              "    (19): Dropout(p=0.5, inplace=False)\n",
              "    (20): swap()\n",
              "    (21): LSTM(200, 400, num_layers=3, batch_first=True, dropout=0.5)\n",
              "    (22): extractcell()\n",
              "    (23): swap()\n",
              "    (24): Flatten(start_dim=1, end_dim=-1)\n",
              "    (25): Linear(in_features=800, out_features=4, bias=True)\n",
              "  )\n",
              "  (criterion): CrossEntropyLoss()\n",
              ")"
            ]
          },
          "execution_count": 18,
          "metadata": {},
          "output_type": "execute_result"
        }
      ],
      "source": [
        "best_model_loss = CNN_LSTM()\n",
        "best_model_loss.load_state_dict(torch.load(PATH_loss)) # load state_dict\n",
        "best_model_loss.to(device)\n",
        "best_model_loss.eval() # sets model in evaluation (inference) mode\n",
        "best_model_acc = CNN_LSTM()\n",
        "best_model_acc.load_state_dict(torch.load(PATH_acc)) # load state_dict\n",
        "best_model_acc.to(device)\n",
        "best_model_acc.eval() # sets model in evaluation (inference) mode"
      ]
    },
    {
      "cell_type": "code",
      "execution_count": null,
      "metadata": {
        "colab": {
          "base_uri": "https://localhost:8080/"
        },
        "id": "dbfJEYfAa4dk",
        "outputId": "d264c351-86b5-4492-cb16-2ad1910abf06"
      },
      "outputs": [
        {
          "name": "stdout",
          "output_type": "stream",
          "text": [
            "(0.70372460496614, 1.0050144826585499)\n",
            "(0.70372460496614, 1.0050144826585499)\n",
            "(0.70372460496614, 1.0050144826585499)\n"
          ]
        }
      ],
      "source": [
        "print(test(testloader, best_model_loss, device))\n",
        "print(test(testloader, best_model_acc, device))\n",
        "print(test(testloader, model, device))"
      ]
    },
    {
      "cell_type": "code",
      "execution_count": null,
      "metadata": {
        "id": "zamjn6A7ymCJ"
      },
      "outputs": [],
      "source": [
        "time = [200, 250, 300, 400, 500, 750, 1000]\n",
        "acc = [0.6523702031602708, 0.6845372460496614, 0.70372460496614, 0.6766365688487584, 0.6659142212189616, 0.659706546275395, 0.6426185101580135]"
      ]
    },
    {
      "cell_type": "code",
      "execution_count": null,
      "metadata": {
        "colab": {
          "base_uri": "https://localhost:8080/",
          "height": 279
        },
        "id": "reM_XquUyoCY",
        "outputId": "5709e9e0-b050-421e-833d-b4ff3b9be54d"
      },
      "outputs": [
        {
          "data": {
            "image/png": "[encoded data removed]",
            "text/plain": [
              "<Figure size 432x288 with 1 Axes>"
            ]
          },
          "metadata": {},
          "output_type": "display_data"
        }
      ],
      "source": [
        "plt.plot(time, acc, '-')\n",
        "plt.xlabel('time')\n",
        "plt.ylabel('test accuracy')\n",
        "plt.show()"
      ]
    }
  ],
  "metadata": {
    "accelerator": "GPU",
    "colab": {
      "collapsed_sections": [],
      "name": "CNN_LSTM_sub.ipynb",
      "provenance": []
    },
    "kernelspec": {
      "display_name": "Python 3",
      "name": "python3"
    },
    "language_info": {
      "name": "python"
    }
  },
  "nbformat": 4,
  "nbformat_minor": 0
}