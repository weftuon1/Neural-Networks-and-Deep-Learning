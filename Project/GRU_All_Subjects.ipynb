{
 "cells": [
  {
   "cell_type": "code",
   "execution_count": 74,
   "metadata": {},
   "outputs": [
    {
     "name": "stdout",
     "output_type": "stream",
     "text": [
      "device type is cpu\n"
     ]
    }
   ],
   "source": [
    "%matplotlib inline\n",
    "import torch\n",
    "\n",
    "\n",
    "# get the device, either cuda or cpu\n",
    "device = torch.device(\"cuda\" if torch.cuda.is_available() else \"cpu\")\n",
    "\n",
    "print('device type is {}'.format(device))"
   ]
  },
  {
   "cell_type": "code",
   "execution_count": 75,
   "metadata": {},
   "outputs": [],
   "source": [
    "import numpy as np\n",
    "from keras.models import Sequential\n",
    "from keras.layers import GRU, Dense, Dropout, BatchNormalization, Flatten, Activation\n",
    "from keras.callbacks import EarlyStopping, ModelCheckpoint\n",
    "import matplotlib.pyplot as plt\n",
    "from sklearn import preprocessing\n",
    "from scipy.fftpack import dct, idct\n",
    "from scipy import signal"
   ]
  },
  {
   "cell_type": "code",
   "execution_count": 76,
   "metadata": {},
   "outputs": [
    {
     "name": "stdout",
     "output_type": "stream",
     "text": [
      "Training/Valid data shape: (2115, 22, 1000)\n",
      "Test data shape: (443, 22, 1000)\n",
      "Training/Valid target shape: (2115,)\n",
      "Test target shape: (443,)\n",
      "Person train/valid shape: (2115, 1)\n",
      "Person test shape: (443, 1)\n"
     ]
    }
   ],
   "source": [
    "X_test = np.load(\"X_test.npy\")\n",
    "y_test = np.load(\"y_test.npy\")\n",
    "person_train_valid = np.load(\"person_train_valid.npy\")\n",
    "X_train_valid = np.load(\"X_train_valid.npy\")\n",
    "y_train_valid = np.load(\"y_train_valid.npy\")\n",
    "person_test = np.load(\"person_test.npy\")\n",
    "\n",
    "\n",
    "print ('Training/Valid data shape: {}'.format(X_train_valid.shape))\n",
    "print ('Test data shape: {}'.format(X_test.shape))\n",
    "print ('Training/Valid target shape: {}'.format(y_train_valid.shape))\n",
    "print ('Test target shape: {}'.format(y_test.shape))\n",
    "print ('Person train/valid shape: {}'.format(person_train_valid.shape))\n",
    "print ('Person test shape: {}'.format(person_test.shape))\n"
   ]
  },
  {
   "cell_type": "code",
   "execution_count": 77,
   "metadata": {},
   "outputs": [],
   "source": [
    "num_trials_train, num_electrodes_train, num_bins_train = X_train_valid.shape\n",
    "num_trials_test, num_electrodes_test, num_bins_test = X_test.shape\n",
    "\n",
    "y_test -= 769\n",
    "y_train_valid -= 769\n",
    "lb = preprocessing.LabelBinarizer()\n",
    "lb.fit([0,1,2,3])\n",
    "lb.classes_\n",
    "y_train_valid= lb.transform(y_train_valid)\n",
    "y_test = lb.transform(y_test)"
   ]
  },
  {
   "cell_type": "code",
   "execution_count": 78,
   "metadata": {},
   "outputs": [],
   "source": [
    "downsampling_size = 25      \n",
    "X_train_valid_ds = signal.resample(X_train_valid,downsampling_size,axis=2)\n",
    "X_test_ds = signal.resample(X_test,downsampling_size,axis=2)"
   ]
  },
  {
   "cell_type": "code",
   "execution_count": 79,
   "metadata": {},
   "outputs": [],
   "source": [
    "model = Sequential()\n",
    "\n",
    "model.add(GRU(200, return_sequences=True, stateful=False,recurrent_dropout=0.8, dropout = 0, input_shape=(int(X_train_valid_ds.shape[2]),num_electrodes_train )))\n",
    "\n",
    "model.add(GRU(100, return_sequences=True, stateful=False,recurrent_dropout=0.8, dropout = 0))\n",
    "\n",
    "model.add(GRU(50, return_sequences=True, stateful=False,recurrent_dropout=0.8, dropout = 0))\n",
    "\n",
    "# model.add(GRU(25, return_sequences=True, stateful=False, recurrent_dropout=0.8, dropout = 0))\n",
    "model.add(Flatten())\n",
    "\n",
    "model.add(Dense(100))\n",
    "model.add(BatchNormalization(axis=-1))\n",
    "model.add(Activation('relu'))\n",
    "model.add(Dropout(0.1))\n",
    "\n",
    "model.add(Dense(4,activation='softmax'))\n",
    "\n",
    "model.compile(loss='categorical_crossentropy',optimizer='adam',metrics=['accuracy'])"
   ]
  },
  {
   "cell_type": "code",
   "execution_count": 80,
   "metadata": {},
   "outputs": [],
   "source": [
    "m,n,q = X_train_valid_ds.shape\n",
    "X_train_valid_dss = np.zeros([m,q,n])\n",
    "for i in range(m):\n",
    "    X_train_valid_dss[i] = np.transpose(X_train_valid_ds[i])\n",
    "    \n",
    "m,n,q = X_test_ds.shape\n",
    "X_test_dss = np.zeros([m,q,n])\n",
    "for i in range(m):\n",
    "    X_test_dss[i] = np.transpose(X_test_ds[i])"
   ]
  },
  {
   "cell_type": "code",
   "execution_count": null,
   "metadata": {},
   "outputs": [
    {
     "name": "stdout",
     "output_type": "stream",
     "text": [
      "Epoch 1/50\n",
      "11/11 [==============================] - 7s 241ms/step - loss: 1.5107 - accuracy: 0.3225 - val_loss: 1.2849 - val_accuracy: 0.4151\n",
      "Epoch 2/50\n",
      "11/11 [==============================] - 2s 200ms/step - loss: 1.2416 - accuracy: 0.4545 - val_loss: 1.1775 - val_accuracy: 0.4528\n",
      "Epoch 3/50\n",
      "11/11 [==============================] - 2s 169ms/step - loss: 1.1493 - accuracy: 0.5062 - val_loss: 1.1384 - val_accuracy: 0.5094\n",
      "Epoch 4/50\n",
      "11/11 [==============================] - 2s 172ms/step - loss: 1.0887 - accuracy: 0.5455 - val_loss: 1.0771 - val_accuracy: 0.5377\n",
      "Epoch 5/50\n",
      "11/11 [==============================] - 2s 175ms/step - loss: 1.0262 - accuracy: 0.5665 - val_loss: 1.0616 - val_accuracy: 0.5566\n",
      "Epoch 6/50\n",
      "11/11 [==============================] - 2s 175ms/step - loss: 0.9986 - accuracy: 0.5869 - val_loss: 0.9989 - val_accuracy: 0.5943\n",
      "Epoch 7/50\n",
      "11/11 [==============================] - 2s 197ms/step - loss: 0.9427 - accuracy: 0.6103 - val_loss: 1.0087 - val_accuracy: 0.5755\n",
      "Epoch 8/50\n",
      "11/11 [==============================] - 2s 207ms/step - loss: 0.9279 - accuracy: 0.6003 - val_loss: 0.9881 - val_accuracy: 0.5660\n",
      "Epoch 9/50\n",
      "11/11 [==============================] - 2s 178ms/step - loss: 0.9065 - accuracy: 0.6152 - val_loss: 0.9817 - val_accuracy: 0.5755\n",
      "Epoch 10/50\n",
      "11/11 [==============================] - 2s 212ms/step - loss: 0.8702 - accuracy: 0.6476 - val_loss: 0.9231 - val_accuracy: 0.6415\n",
      "Epoch 11/50\n",
      " 6/11 [===============>..............] - ETA: 0s - loss: 0.7999 - accuracy: 0.6742"
     ]
    }
   ],
   "source": [
    "history = model.fit(X_train_valid_dss, y_train_valid,batch_size=200, epochs=50, shuffle=True,validation_split = 0.05)\n",
    "scores = model.evaluate(X_test_dss, y_test, verbose=0)\n"
   ]
  },
  {
   "cell_type": "code",
   "execution_count": null,
   "metadata": {},
   "outputs": [],
   "source": [
    "print(\"downsampling size: {}\".format(downsampling_size))\n",
    "print(\"testing accuracy: %.2f%%\" % (scores[1]*100))\n",
    "print(\"maximum validation accuracy: %.2f%%\" % (max(history.history['val_accuracy'])*100))"
   ]
  },
  {
   "cell_type": "code",
   "execution_count": null,
   "metadata": {},
   "outputs": [],
   "source": [
    "plt.plot(history.history['accuracy'])\n",
    "plt.plot(history.history['val_accuracy'])\n",
    "plt.title('Accuracy')\n",
    "plt.ylabel('accuracy')\n",
    "plt.xlabel('epoch')\n",
    "plt.legend(['Training', 'Validation'], loc='upper left')\n",
    "plt.show()\n",
    "\n",
    "\n",
    "plt.plot(history.history['loss'])\n",
    "plt.plot(history.history['val_loss'])\n",
    "plt.title('Loss')\n",
    "plt.ylabel('loss')\n",
    "plt.xlabel('epoch')\n",
    "plt.legend(['Training', 'Validation'], loc='upper left')\n",
    "plt.show()"
   ]
  },
  {
   "cell_type": "code",
   "execution_count": null,
   "metadata": {},
   "outputs": [],
   "source": []
  }
 ],
 "metadata": {
  "kernelspec": {
   "display_name": "Python 3",
   "language": "python",
   "name": "python3"
  },
  "language_info": {
   "codemirror_mode": {
    "name": "ipython",
    "version": 3
   },
   "file_extension": ".py",
   "mimetype": "text/x-python",
   "name": "python",
   "nbconvert_exporter": "python",
   "pygments_lexer": "ipython3",
   "version": "3.7.4"
  }
 },
 "nbformat": 4,
 "nbformat_minor": 2
}
